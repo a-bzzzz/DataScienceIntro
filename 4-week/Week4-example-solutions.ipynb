{
 "cells": [
  {
   "cell_type": "markdown",
   "metadata": {
    "id": "tIQ1s96UCcJW"
   },
   "source": [
    "# Week 4\n",
    "\n",
    "Install [transformers](https://huggingface.co/docs/transformers/index) python package."
   ]
  },
  {
   "cell_type": "code",
   "execution_count": null,
   "metadata": {
    "id": "4fUBJmXHCHw-"
   },
   "outputs": [],
   "source": [
    "!pip install --quiet transformers"
   ]
  },
  {
   "cell_type": "markdown",
   "metadata": {
    "id": "5ZRNZgRJCt6Q"
   },
   "source": [
    "Import the `AutoTokenizer`, `AutoModelForCausalLM`, and `pipeline` classes."
   ]
  },
  {
   "cell_type": "code",
   "execution_count": 2,
   "metadata": {
    "id": "jwyK005xCFSF"
   },
   "outputs": [],
   "source": [
    "from transformers import AutoTokenizer, AutoModelForCausalLM, pipeline"
   ]
  },
  {
   "cell_type": "markdown",
   "metadata": {
    "id": "6QJPDe3ZC_sL"
   },
   "source": [
    "Load a generative model and its tokenizer."
   ]
  },
  {
   "cell_type": "code",
   "execution_count": 3,
   "metadata": {
    "id": "wqTxn_QaCNjZ"
   },
   "outputs": [],
   "source": [
    "MODEL_NAME = 'gpt2-large'\n",
    "\n",
    "tokenizer = AutoTokenizer.from_pretrained(MODEL_NAME)\n",
    "model = AutoModelForCausalLM.from_pretrained(MODEL_NAME)"
   ]
  },
  {
   "cell_type": "markdown",
   "metadata": {
    "id": "9ADWWb77e1sY"
   },
   "source": [
    "Instantiate a text generation pipeline using the tokenizer and model."
   ]
  },
  {
   "cell_type": "code",
   "execution_count": null,
   "metadata": {
    "id": "0IIJzNrEe5qx"
   },
   "outputs": [],
   "source": [
    "pipe = pipeline(\n",
    "    'text-generation',\n",
    "    model=model,\n",
    "    tokenizer=tokenizer,\n",
    "    device=model.device,\n",
    "    temperature=0.5,\n",
    "    do_sample=True,\n",
    "    pad_token_id = tokenizer.eos_token_id\n",
    ")"
   ]
  },
  {
   "cell_type": "markdown",
   "metadata": {},
   "source": [
    "### Task 1: Binary sentiment classification"
   ]
  },
  {
   "cell_type": "code",
   "execution_count": 5,
   "metadata": {},
   "outputs": [
    {
     "name": "stdout",
     "output_type": "stream",
     "text": [
      "Do the following texts express a positive or negative sentiment?\n",
      "\n",
      "Prompt: The driver was rude.\n",
      "Answer: He was rude.\n",
      "\n",
      "Prompt: The driver was rude.\n",
      "\n",
      "Answer: He was rude.\n",
      "\n",
      "Prom\n",
      "----------\n",
      "\n",
      "Do the following texts express a positive or negative sentiment?\n",
      "\n",
      "Prompt: The driver was rude.\n",
      "Answer: negative\n",
      "\n",
      "Prompt: I am happy.\n",
      "Answer: positive\n",
      "\n",
      "Prompt: There is no need to worry.\n",
      "\n",
      "Answer: positive\n",
      "\n",
      "Prompt: I am\n",
      "----------\n",
      "\n",
      "Do the following texts express a positive or negative sentiment?\n",
      "\n",
      "Prompt: The driver was rude.\n",
      "Answer: negative\n",
      "\n",
      "Prompt: I am happy.\n",
      "Answer: positive\n",
      "\n",
      "Prompt: This food is awful.\n",
      "Answer: negative\n",
      "\n",
      "Prompt: I am sad.\n",
      "\n",
      "Answer: positive\n",
      "\n",
      "Prompt: I am angry.\n",
      "\n"
     ]
    }
   ],
   "source": [
    "## Zero-shot\n",
    "\n",
    "prompt = \"Do the following texts express a positive or negative sentiment?\\n\\n\" \\\n",
    "            + \"Prompt: The driver was rude.\\n\" \\\n",
    "            + \"Answer:\"\n",
    "\n",
    "output = pipe(prompt, max_new_tokens=25)\n",
    "print(output[0][\"generated_text\"])\n",
    "print(\"----------\\n\")\n",
    "\n",
    "## One-shot\n",
    "\n",
    "prompt = \"Do the following texts express a positive or negative sentiment?\\n\\n\" \\\n",
    "            + \"Prompt: The driver was rude.\\n\" \\\n",
    "            + \"Answer: negative\\n\\n\" \\\n",
    "            + \"Prompt: I am happy.\\n\" \\\n",
    "            + \"Answer:\"\n",
    "\n",
    "output = pipe(prompt, max_new_tokens=25)\n",
    "print(output[0][\"generated_text\"])\n",
    "print(\"----------\\n\")\n",
    "\n",
    "## Two-shot\n",
    "\n",
    "prompt = \"Do the following texts express a positive or negative sentiment?\\n\\n\" \\\n",
    "            + \"Prompt: The driver was rude.\\n\" \\\n",
    "            + \"Answer: negative\\n\\n\" \\\n",
    "            + \"Prompt: I am happy.\\n\" \\\n",
    "            + \"Answer: positive\\n\\n\" \\\n",
    "            + \"Prompt: This food is awful.\\n\" \\\n",
    "            + \"Answer:\"\n",
    "\n",
    "output = pipe(prompt, max_new_tokens=25)\n",
    "print(output[0][\"generated_text\"])"
   ]
  },
  {
   "cell_type": "markdown",
   "metadata": {},
   "source": [
    "### Task 2: Person name recognition"
   ]
  },
  {
   "cell_type": "code",
   "execution_count": 6,
   "metadata": {},
   "outputs": [
    {
     "name": "stdout",
     "output_type": "stream",
     "text": [
      "List the person names occurring in the following texts.\n",
      "\n",
      "Prompt: Jane and Jake walked their dog.\n",
      "Answer: Jane and Jake walked their dog.\n",
      "\n",
      "Prompt: Jane and Jake walked their dog.\n",
      "\n",
      "Answer: Jane and\n",
      "----------\n",
      "\n",
      "List the person names occurring in the following texts.\n",
      "\n",
      "Prompt: Jane and Jake walked their dog.\n",
      "Answer: Jane, Jake\n",
      "\n",
      "Prompt: I was visiting Robert.\n",
      "Answer: Robert\n",
      "\n",
      "Prompt: I was visiting my mother.\n",
      "\n",
      "Answer: My mother\n",
      "\n",
      "Prompt: I was\n",
      "----------\n",
      "\n",
      "List the person names occurring in the following texts.\n",
      "\n",
      "Prompt: Jane and Jake walked their dog.\n",
      "Answer: Jane, Jake\n",
      "\n",
      "Prompt: I was visiting Robert.\n",
      "Answer: Robert\n",
      "\n",
      "Prompt: Michael plays in a band with Stephanie and Sarah.\n",
      "Answer: Michael\n",
      "\n",
      "Prompt: I'm an architect.\n",
      "\n",
      "Answer: I'm an architect\n",
      "\n",
      "Prompt: I\n"
     ]
    }
   ],
   "source": [
    "## Zero-shot\n",
    "\n",
    "prompt = \"List the person names occurring in the following texts.\\n\\n\" \\\n",
    "            + \"Prompt: Jane and Jake walked their dog.\\n\" \\\n",
    "            + \"Answer:\"\n",
    "\n",
    "output = pipe(prompt, max_new_tokens=25)\n",
    "print(output[0][\"generated_text\"])\n",
    "print(\"----------\\n\")\n",
    "\n",
    "## One-shot\n",
    "\n",
    "prompt = \"List the person names occurring in the following texts.\\n\\n\" \\\n",
    "            + \"Prompt: Jane and Jake walked their dog.\\n\" \\\n",
    "            + \"Answer: Jane, Jake\\n\\n\" \\\n",
    "            + \"Prompt: I was visiting Robert.\\n\" \\\n",
    "            + \"Answer:\"\n",
    "\n",
    "output = pipe(prompt, max_new_tokens=25)\n",
    "print(output[0][\"generated_text\"])\n",
    "print(\"----------\\n\")\n",
    "\n",
    "## Two-shot\n",
    "\n",
    "prompt = \"List the person names occurring in the following texts.\\n\\n\" \\\n",
    "            + \"Prompt: Jane and Jake walked their dog.\\n\" \\\n",
    "            + \"Answer: Jane, Jake\\n\\n\" \\\n",
    "            + \"Prompt: I was visiting Robert.\\n\" \\\n",
    "            + \"Answer: Robert\\n\\n\" \\\n",
    "            + \"Prompt: Michael plays in a band with Stephanie and Sarah.\\n\" \\\n",
    "            + \"Answer:\"\n",
    "\n",
    "output = pipe(prompt, max_new_tokens=25)\n",
    "print(output[0][\"generated_text\"])"
   ]
  },
  {
   "cell_type": "markdown",
   "metadata": {},
   "source": [
    "### Task 3: Two-digit addition"
   ]
  },
  {
   "cell_type": "code",
   "execution_count": 7,
   "metadata": {},
   "outputs": [
    {
     "name": "stdout",
     "output_type": "stream",
     "text": [
      "This is a first grade math exam.\n",
      "\n",
      "Prompt: 11 + 22\n",
      "Answer: 21.\n",
      "\n",
      "A: The answer is 21.\n",
      "\n",
      "B: Correct, 21 is the correct answer.\n",
      "\n",
      "\n",
      "----------\n",
      "\n",
      "This is a first grade math exam.\n",
      "\n",
      "Prompt: 11 + 22\n",
      "Answer: 33\n",
      "\n",
      "Prompt: 4 + 17\n",
      "Answer: 22\n",
      "\n",
      "Prompt: 5 + 17\n",
      "\n",
      "Answer: 22\n",
      "\n",
      "Prompt: 6 + 17\n",
      "\n",
      "Answer\n",
      "----------\n",
      "\n",
      "This is a first grade math exam.\n",
      "\n",
      "Prompt: 11 + 22\n",
      "Answer: 33\n",
      "\n",
      "Prompt: 4 + 17\n",
      "Answer: 21\n",
      "\n",
      "Prompt: 21 + 3\n",
      "Answer: 7\n",
      "\n",
      "Prompt: 4 + 7\n",
      "\n",
      "Answer: 14\n",
      "\n",
      "Prompt: 3 + 7\n",
      "\n",
      "Answer\n"
     ]
    }
   ],
   "source": [
    "## Zero-shot\n",
    "\n",
    "prompt = \"This is a first grade math exam.\\n\\n\" \\\n",
    "            + \"Prompt: 11 + 22\\n\" \\\n",
    "            + \"Answer:\"\n",
    "\n",
    "output = pipe(prompt, max_new_tokens=25)\n",
    "print(output[0][\"generated_text\"])\n",
    "print(\"----------\\n\")\n",
    "\n",
    "## One-shot\n",
    "\n",
    "prompt = \"This is a first grade math exam.\\n\\n\" \\\n",
    "            + \"Prompt: 11 + 22\\n\" \\\n",
    "            + \"Answer: 33\\n\\n\" \\\n",
    "            + \"Prompt: 4 + 17\\n\" \\\n",
    "            + \"Answer:\"\n",
    "\n",
    "output = pipe(prompt, max_new_tokens=25)\n",
    "print(output[0][\"generated_text\"])\n",
    "print(\"----------\\n\")\n",
    "\n",
    "## Two-shot\n",
    "\n",
    "prompt = \"This is a first grade math exam.\\n\\n\" \\\n",
    "            + \"Prompt: 11 + 22\\n\" \\\n",
    "            + \"Answer: 33\\n\\n\" \\\n",
    "            + \"Prompt: 4 + 17\\n\" \\\n",
    "            + \"Answer: 21\\n\\n\" \\\n",
    "            + \"Prompt: 21 + 3\\n\" \\\n",
    "            + \"Answer:\"\n",
    "\n",
    "output = pipe(prompt, max_new_tokens=25)\n",
    "print(output[0][\"generated_text\"])"
   ]
  }
 ],
 "metadata": {
  "colab": {
   "authorship_tag": "ABX9TyMPTKW2dgboQJpXpHYIBCHp",
   "include_colab_link": true,
   "provenance": []
  },
  "kernelspec": {
   "display_name": "Python 3 (ipykernel)",
   "language": "python",
   "name": "python3"
  },
  "language_info": {
   "codemirror_mode": {
    "name": "ipython",
    "version": 3
   },
   "file_extension": ".py",
   "mimetype": "text/x-python",
   "name": "python",
   "nbconvert_exporter": "python",
   "pygments_lexer": "ipython3",
   "version": "3.9.16"
  }
 },
 "nbformat": 4,
 "nbformat_minor": 1
}
